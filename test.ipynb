{
 "cells": [
  {
   "cell_type": "code",
   "execution_count": 13,
   "id": "e51e732d-407e-4cbc-ac9e-54be5924bf74",
   "metadata": {},
   "outputs": [],
   "source": [
    "import openai"
   ]
  },
  {
   "cell_type": "code",
   "execution_count": 14,
   "id": "233005cc-a8fb-48fe-91b1-579277674adb",
   "metadata": {},
   "outputs": [],
   "source": [
    "from openai import OpenAI"
   ]
  },
  {
   "cell_type": "code",
   "execution_count": 15,
   "id": "610c2f87-a3e9-4c9e-a6f9-9bfb93a91010",
   "metadata": {},
   "outputs": [],
   "source": [
    "import sys"
   ]
  },
  {
   "cell_type": "code",
   "execution_count": 16,
   "id": "aefc50bb-8af1-4c51-b700-f03a4685cc51",
   "metadata": {},
   "outputs": [],
   "source": [
    "import os"
   ]
  },
  {
   "cell_type": "code",
   "execution_count": 17,
   "id": "eb756333-fc15-4c99-9a33-9d2184e04ec2",
   "metadata": {},
   "outputs": [],
   "source": [
    "response = client.chat.completions.create(  \n",
    "                                model = 'gpt-4o',\n",
    "                                messages = [{'role':'user','content':'is it too late to join the course ?'}]\n",
    ")"
   ]
  },
  {
   "cell_type": "code",
   "execution_count": 18,
   "id": "478b3708-cb71-4fec-a396-2f5f33498cef",
   "metadata": {},
   "outputs": [
    {
     "data": {
      "text/plain": [
       "\"It's difficult to say without more context. Each course and institution has its own enrollment deadlines and policies. Here are a few general steps you can take to find out if it's too late to join a course:\\n\\n1. **Check the Course Website:** Most courses, especially those offered by educational institutions or online platforms, will have information about enrollment deadlines posted on their website.\\n\\n2. **Contact the Instructor or Institution:** If you can't find the information online, reach out directly to the course instructor or the admissions office of the institution offering the course.\\n\\n3. **Look for Late Enrollment Options:** Some courses offer late enrollment or rolling admissions. Ask if there are any such options available.\\n\\n4. **Consider Auditing:** If it's too late for official enrollment but you're still interested in the material, you might ask if you can audit the class. This usually means you can attend lectures and access materials, but you won’t receive credit.\\n\\n5. **Waitlist:** Some courses offer a waitlist option in case other students drop out or additional seats become available.\\n\\n6. **Future Sessions:** If it's too late for this session, ask when the course will be offered again so you can plan for next time.\\n\\nAlways check directly with the course provider to get the most accurate and up-to-date information.\""
      ]
     },
     "execution_count": 18,
     "metadata": {},
     "output_type": "execute_result"
    }
   ],
   "source": [
    "response.choices[0].message.content"
   ]
  },
  {
   "cell_type": "code",
   "execution_count": null,
   "id": "1b300143-0834-4f2f-8195-b540e9a956e3",
   "metadata": {},
   "outputs": [],
   "source": []
  }
 ],
 "metadata": {
  "kernelspec": {
   "display_name": "Python 3 (ipykernel)",
   "language": "python",
   "name": "python3"
  },
  "language_info": {
   "codemirror_mode": {
    "name": "ipython",
    "version": 3
   },
   "file_extension": ".py",
   "mimetype": "text/x-python",
   "name": "python",
   "nbconvert_exporter": "python",
   "pygments_lexer": "ipython3",
   "version": "3.10.13"
  }
 },
 "nbformat": 4,
 "nbformat_minor": 5
}
